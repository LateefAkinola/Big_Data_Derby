{
 "cells": [
  {
   "cell_type": "markdown",
   "metadata": {},
   "source": [
    "### Dataset Description\n",
    "\n",
    "In this competition your task is to predict whether a passenger was transported to an alternate dimension during the Spaceship Titanic's collision with the spacetime anomaly. To help you make these predictions, you're given a set of personal records recovered from the ship's damaged computer system.\n",
    "\n",
    "### File and Data Field Descriptions:\n",
    "\n",
    "    <>train.csv - Personal records for about two-thirds (~8700) of the passengers, to be used as training data.\n",
    "    <>PassengerId - A unique Id for each passenger. Each Id takes the form gggg_pp where gggg indicates a group the passenger is travelling with and pp is  their number within the group. People in a group are often family members, but not always.\n",
    "    <>HomePlanet - The planet the passenger departed from, typically their planet of permanent residence.\n",
    "    <>CryoSleep - Indicates whether the passenger elected to be put into suspended animation for the duration of the voyage. Passengers in cryosleep are confined to their cabins.\n",
    "    <>Cabin - The cabin number where the passenger is staying. Takes the form deck/num/side, where side can be either P for Port or S for Starboard.\n",
    "    <>Destination - The planet the passenger will be debarking to.\n",
    "    <>Age - The age of the passenger.\n",
    "    <>VIP - Whether the passenger has paid for special VIP service during the voyage.\n",
    "    <>RoomService, FoodCourt, ShoppingMall, Spa, VRDeck - Amount the passenger has billed at each of the Spaceship Titanic's many luxury amenities.\n",
    "    <>Name - The first and last names of the passenger.\n",
    "    <>Transported - Whether the passenger was transported to another dimension. This is the target, the column you are trying to predict.\n",
    "    \n",
    "test.csv - Personal records for the remaining one-third (~4300) of the passengers, to be used as test data. Your task is to predict the value of Transported for the passengers in this set.\n",
    "\n",
    "sample_submission.csv - A submission file in the correct format.\n",
    "PassengerId - Id for each passenger in the test set.\n",
    "Transported - The target. For each passenger, predict either True or False."
   ]
  },
  {
   "cell_type": "code",
   "execution_count": 1,
   "metadata": {},
   "outputs": [],
   "source": [
    "# Import Libraries\n",
    "\n",
    "# Data wrangling\n",
    "import pandas as pd\n",
    "import numpy as np\n",
    "from collections import Counter\n",
    "\n",
    "# Data visualisation\n",
    "import seaborn as sns\n",
    "import matplotlib.pyplot as plt\n",
    "\n",
    "%matplotlib inline\n",
    "\n",
    "# Remove warnings\n",
    "import warnings\n",
    "warnings.filterwarnings('ignore')"
   ]
  },
  {
   "cell_type": "code",
   "execution_count": 13,
   "metadata": {},
   "outputs": [],
   "source": [
    "# Import Files\n",
    "train = pd.read_csv(\"train.csv\")\n",
    "test = pd.read_csv('test.csv')"
   ]
  },
  {
   "cell_type": "code",
   "execution_count": 3,
   "metadata": {},
   "outputs": [
    {
     "data": {
      "text/html": [
       "<div>\n",
       "<style scoped>\n",
       "    .dataframe tbody tr th:only-of-type {\n",
       "        vertical-align: middle;\n",
       "    }\n",
       "\n",
       "    .dataframe tbody tr th {\n",
       "        vertical-align: top;\n",
       "    }\n",
       "\n",
       "    .dataframe thead th {\n",
       "        text-align: right;\n",
       "    }\n",
       "</style>\n",
       "<table border=\"1\" class=\"dataframe\">\n",
       "  <thead>\n",
       "    <tr style=\"text-align: right;\">\n",
       "      <th></th>\n",
       "      <th>PassengerId</th>\n",
       "      <th>HomePlanet</th>\n",
       "      <th>CryoSleep</th>\n",
       "      <th>Cabin</th>\n",
       "      <th>Destination</th>\n",
       "      <th>Age</th>\n",
       "      <th>VIP</th>\n",
       "      <th>RoomService</th>\n",
       "      <th>FoodCourt</th>\n",
       "      <th>ShoppingMall</th>\n",
       "      <th>Spa</th>\n",
       "      <th>VRDeck</th>\n",
       "      <th>Name</th>\n",
       "      <th>Transported</th>\n",
       "    </tr>\n",
       "  </thead>\n",
       "  <tbody>\n",
       "    <tr>\n",
       "      <th>0</th>\n",
       "      <td>0001_01</td>\n",
       "      <td>Europa</td>\n",
       "      <td>False</td>\n",
       "      <td>B/0/P</td>\n",
       "      <td>TRAPPIST-1e</td>\n",
       "      <td>39.0</td>\n",
       "      <td>False</td>\n",
       "      <td>0.0</td>\n",
       "      <td>0.0</td>\n",
       "      <td>0.0</td>\n",
       "      <td>0.0</td>\n",
       "      <td>0.0</td>\n",
       "      <td>Maham Ofracculy</td>\n",
       "      <td>False</td>\n",
       "    </tr>\n",
       "    <tr>\n",
       "      <th>1</th>\n",
       "      <td>0002_01</td>\n",
       "      <td>Earth</td>\n",
       "      <td>False</td>\n",
       "      <td>F/0/S</td>\n",
       "      <td>TRAPPIST-1e</td>\n",
       "      <td>24.0</td>\n",
       "      <td>False</td>\n",
       "      <td>109.0</td>\n",
       "      <td>9.0</td>\n",
       "      <td>25.0</td>\n",
       "      <td>549.0</td>\n",
       "      <td>44.0</td>\n",
       "      <td>Juanna Vines</td>\n",
       "      <td>True</td>\n",
       "    </tr>\n",
       "    <tr>\n",
       "      <th>2</th>\n",
       "      <td>0003_01</td>\n",
       "      <td>Europa</td>\n",
       "      <td>False</td>\n",
       "      <td>A/0/S</td>\n",
       "      <td>TRAPPIST-1e</td>\n",
       "      <td>58.0</td>\n",
       "      <td>True</td>\n",
       "      <td>43.0</td>\n",
       "      <td>3576.0</td>\n",
       "      <td>0.0</td>\n",
       "      <td>6715.0</td>\n",
       "      <td>49.0</td>\n",
       "      <td>Altark Susent</td>\n",
       "      <td>False</td>\n",
       "    </tr>\n",
       "  </tbody>\n",
       "</table>\n",
       "</div>"
      ],
      "text/plain": [
       "  PassengerId HomePlanet CryoSleep  Cabin  Destination   Age    VIP  \\\n",
       "0     0001_01     Europa     False  B/0/P  TRAPPIST-1e  39.0  False   \n",
       "1     0002_01      Earth     False  F/0/S  TRAPPIST-1e  24.0  False   \n",
       "2     0003_01     Europa     False  A/0/S  TRAPPIST-1e  58.0   True   \n",
       "\n",
       "   RoomService  FoodCourt  ShoppingMall     Spa  VRDeck             Name  \\\n",
       "0          0.0        0.0           0.0     0.0     0.0  Maham Ofracculy   \n",
       "1        109.0        9.0          25.0   549.0    44.0     Juanna Vines   \n",
       "2         43.0     3576.0           0.0  6715.0    49.0    Altark Susent   \n",
       "\n",
       "   Transported  \n",
       "0        False  \n",
       "1         True  \n",
       "2        False  "
      ]
     },
     "execution_count": 3,
     "metadata": {},
     "output_type": "execute_result"
    }
   ],
   "source": [
    "# Inspect\n",
    "train.head(3)"
   ]
  },
  {
   "cell_type": "code",
   "execution_count": null,
   "metadata": {},
   "outputs": [],
   "source": [
    "test.head(3)"
   ]
  },
  {
   "cell_type": "code",
   "execution_count": 14,
   "metadata": {},
   "outputs": [],
   "source": [
    "## a function that extract cabin grp and side \n",
    "def cabin_split(x):\n",
    "    ## try and exception is used to navigate through the nan values\n",
    "    try:\n",
    "        u= x.split('/')\n",
    "        return str(u[0] + u[2])\n",
    "    except AttributeError as e:\n",
    "        return x\n",
    "\n",
    "train[\"cabin_grp\"] = train.Cabin.apply(cabin_split)\n",
    "test[\"cabin_grp\"] = test.Cabin.apply(cabin_split) \n"
   ]
  },
  {
   "cell_type": "code",
   "execution_count": null,
   "metadata": {},
   "outputs": [],
   "source": [
    "train.head(2)"
   ]
  },
  {
   "cell_type": "code",
   "execution_count": null,
   "metadata": {},
   "outputs": [],
   "source": [
    "test.head(2)"
   ]
  },
  {
   "cell_type": "code",
   "execution_count": null,
   "metadata": {},
   "outputs": [],
   "source": [
    "train.isnull().sum().sort_values(ascending=False)"
   ]
  },
  {
   "cell_type": "code",
   "execution_count": null,
   "metadata": {},
   "outputs": [],
   "source": [
    "test.isnull().sum().sort_values(ascending=False)"
   ]
  },
  {
   "cell_type": "markdown",
   "metadata": {},
   "source": [
    "## EXPLOROTARY DATA ANALYSIS\n"
   ]
  },
  {
   "cell_type": "markdown",
   "metadata": {},
   "source": [
    "### Categorical Variables : HomePlanet, CryoSleep, Destination,VIP\n"
   ]
  },
  {
   "cell_type": "markdown",
   "metadata": {},
   "source": [
    "##### 1. HomePlanet"
   ]
  },
  {
   "cell_type": "code",
   "execution_count": null,
   "metadata": {},
   "outputs": [],
   "source": [
    "train.HomePlanet.value_counts(dropna=False)"
   ]
  },
  {
   "cell_type": "code",
   "execution_count": null,
   "metadata": {},
   "outputs": [],
   "source": [
    "#Mean \"Transported\" by HomePlanet\n",
    "\n",
    "train[['HomePlanet', 'Transported']].groupby('HomePlanet', as_index=False).mean().sort_values(by= 'Transported', ascending=False)\n",
    "\n",
    "# Europa, Mars, Earth"
   ]
  },
  {
   "cell_type": "code",
   "execution_count": null,
   "metadata": {},
   "outputs": [],
   "source": [
    "sns.barplot(x = 'HomePlanet', y ='Transported', data = train)\n",
    "plt.ylabel('Transported Probability')\n",
    "plt.title('Transported Probability by Home Planet')\n",
    "\n",
    "# Comment: Female passengers are more likely to survive"
   ]
  },
  {
   "cell_type": "markdown",
   "metadata": {},
   "source": [
    "##### 2. Destination"
   ]
  },
  {
   "cell_type": "code",
   "execution_count": null,
   "metadata": {},
   "outputs": [],
   "source": [
    "train['Destination'].value_counts(dropna=False)"
   ]
  },
  {
   "cell_type": "code",
   "execution_count": null,
   "metadata": {},
   "outputs": [],
   "source": [
    "# Mean \"Transported\" by Destination\n",
    "train[[\"Destination\", \"Transported\"]].groupby('Destination', as_index=False).mean().sort_values(by=\"Transported\", ascending=False)\n",
    "\n",
    "# 55 Cancri e, PSO J318.5-22, TRAPPIST-1e"
   ]
  },
  {
   "cell_type": "code",
   "execution_count": null,
   "metadata": {},
   "outputs": [],
   "source": [
    "sns.barplot(x=\"Destination\", y=\"Transported\", data=train)\n",
    "plt.ylabel('Transported Probability')\n",
    "plt.title('Transported Probability by Destination')"
   ]
  },
  {
   "cell_type": "markdown",
   "metadata": {},
   "source": [
    "##### 3. CryoSleep"
   ]
  },
  {
   "cell_type": "code",
   "execution_count": null,
   "metadata": {},
   "outputs": [],
   "source": [
    "train.CryoSleep.value_counts(dropna=False)"
   ]
  },
  {
   "cell_type": "code",
   "execution_count": null,
   "metadata": {},
   "outputs": [],
   "source": [
    "# Mean \"Transpored\" by CryoSleep \n",
    "\n",
    "train[['CryoSleep', 'Transported']].groupby(\"CryoSleep\", as_index=False).mean().sort_values(by=\"Transported\", ascending=False)\n",
    "\n",
    "# True, False"
   ]
  },
  {
   "cell_type": "code",
   "execution_count": null,
   "metadata": {},
   "outputs": [],
   "source": [
    "sns.barplot(x=\"CryoSleep\", y=\"Transported\", data=train)\n",
    "plt.xlabel(\"Transported Probability\")\n",
    "plt.ylabel(\"Transported Probability by CryoSleep\")"
   ]
  },
  {
   "cell_type": "markdown",
   "metadata": {},
   "source": [
    "##### 4. VIP"
   ]
  },
  {
   "cell_type": "code",
   "execution_count": null,
   "metadata": {},
   "outputs": [],
   "source": [
    "train.VIP.value_counts(dropna=False)"
   ]
  },
  {
   "cell_type": "code",
   "execution_count": null,
   "metadata": {},
   "outputs": [],
   "source": [
    "# Mean \"Transported\" by VIP \n",
    "\n",
    "train[['VIP', 'Transported']].groupby(\"VIP\", as_index=False).mean().sort_values(by=\"Transported\", ascending=False)\n",
    "\n",
    "# False, True"
   ]
  },
  {
   "cell_type": "code",
   "execution_count": null,
   "metadata": {},
   "outputs": [],
   "source": [
    "sns.barplot(x=\"VIP\", y=\"Transported\", data=train)\n",
    "plt.xlabel(\"Transported Probability\")\n",
    "plt.ylabel(\"Transported Probability by VIP\")"
   ]
  },
  {
   "cell_type": "markdown",
   "metadata": {},
   "source": [
    "### FILL MISSING TEST VALUES\n",
    "\n",
    "##### Due to the EDA done earlier by Rasheed, he defined the functions below for filling missing values"
   ]
  },
  {
   "cell_type": "code",
   "execution_count": 19,
   "metadata": {},
   "outputs": [],
   "source": [
    "def fill_missing_1(data, target_column: str, cond_column1: str, cond_column2: str, cond_value1: str, cond_value2, fill):\n",
    "    common= data[target_column].isna()\n",
    "    condition= [(data[cond_column1]>= cond_value1) & (data[cond_column2]== cond_value2) & (common)]\n",
    "    fill_with= [fill]\n",
    "    data[target_column]= np.select(condition, fill_with, default= data[target_column].values)\n",
    "\n",
    "# For Shopmall and VIP sujected to Age 12 and 20 respectively\n",
    "def fill_missing_2(data, target_column: str, cond_column: str, cond_value:int, fill):\n",
    "    common= data[target_column].isna()\n",
    "    cond= [(data[cond_column] <= cond_value) &(common)]\n",
    "    fill_with= [fill]\n",
    "    data[target_column]= np.select(cond, fill_with, default= data[target_column].values)\n",
    "\n",
    "def fill_missing_3(data, target_column: str, cond_column1: str, cond_column2: str, cond_value1: str, cond_value2, fill):\n",
    "    common= data[target_column].isna()\n",
    "    condition= [(data[cond_column1]== cond_value1) & (data[cond_column2]== cond_value2) & (common)]\n",
    "    fill_with= [fill]\n",
    "    data[target_column]= np.select(condition, fill_with, default= data[target_column].values)\n",
    "\n",
    "def fill_missing_4(data, target_column: str, cond_column1: str,  cond_value1: str, fill):\n",
    "    \"\"\"\n",
    "       Argumnet data: dataframe, target_column: column to be filled, cond_column1 , cond_column2, fill: value \n",
    "    \"\"\"\n",
    "    common= data[target_column].isna()\n",
    "    condition= [(data[cond_column1]== cond_value1)  & (common)]\n",
    "    fill_with= [fill]\n",
    "    data[target_column]= np.select(condition, fill_with, default= data[target_column].values)"
   ]
  },
  {
   "cell_type": "code",
   "execution_count": 20,
   "metadata": {},
   "outputs": [
    {
     "data": {
      "text/plain": [
       "True"
      ]
     },
     "execution_count": 20,
     "metadata": {},
     "output_type": "execute_result"
    }
   ],
   "source": [
    "# Check if both train and test datas as same number of unique carbon_grp values\n",
    "\n",
    "len(train.cabin_grp.unique()) == len(test.cabin_grp.unique())"
   ]
  },
  {
   "cell_type": "code",
   "execution_count": 21,
   "metadata": {},
   "outputs": [],
   "source": [
    "### At ages greater than 40 and cabin_grp AP,BP, BS, CS , CP HomePlanet is Europa\n",
    "### At ages greater than 40  and cabin_grp GS, GP homeplanet is Earth\n",
    "for grp in [\"AP\",\"BP\", \"BS\", \"CS\" , \"CP\", \"GS\", \"GP\"]:\n",
    "    if grp in [\"GS\", \"GP\"]:\n",
    "        fill_missing_1(train, 'HomePlanet', \"Age\", 'cabin_grp', 40, grp, 'Earth')\n",
    "        fill_missing_1(test, 'HomePlanet', \"Age\", 'cabin_grp', 40, grp, 'Earth')\n",
    "    else:\n",
    "        fill_missing_1(train, 'HomePlanet', \"Age\", 'cabin_grp', 40, grp, 'Europa')\n",
    "        fill_missing_1(test, 'HomePlanet', \"Age\", 'cabin_grp', 40, grp, 'Europa')\n"
   ]
  },
  {
   "cell_type": "code",
   "execution_count": 22,
   "metadata": {},
   "outputs": [],
   "source": [
    "# For Shopmall and VIP sujected to Age 12 and 20 respectively\n",
    "for data in [train, test]:\n",
    "    fill_missing_2(data, 'ShoppingMall', 'Age', 12, 0)\n",
    "    fill_missing_2(data, 'VIP', 'Age', 20, False)"
   ]
  },
  {
   "cell_type": "code",
   "execution_count": 23,
   "metadata": {},
   "outputs": [],
   "source": [
    "for data in [train, test]:\n",
    "    fill_missing_3(data, 'HomePlanet', 'cabin_grp', 'Destination', 'ES', 'TRAPPIST-1e', 'Mars')\n",
    "    fill_missing_3(data, 'HomePlanet', 'cabin_grp', 'Destination', 'ES', 'PSO J318.5-22', 'Earth')\n",
    "    fill_missing_3(data, 'HomePlanet', 'cabin_grp', 'Destination', 'ES', '55 Cancri e', 'Europa')\n",
    "    fill_missing_3(data, 'HomePlanet', 'cabin_grp', 'Destination', 'ES', '55 Cancri e', 'Europa')\n",
    "    fill_missing_3(data, 'HomePlanet', 'cabin_grp', 'Destination', 'DS', '55 Cancri e', 'Europa')\n",
    "    fill_missing_3(data, 'HomePlanet', 'cabin_grp', 'Destination', 'DP', '55 Cancri e', 'Europa')\n",
    "\n",
    "\n",
    "    fill_missing_4(data, 'HomePlanet', 'cabin_grp', 'AS', 'Europa')\n",
    "    fill_missing_4(data, 'HomePlanet', 'cabin_grp', 'AP', 'Europa')\n",
    "    fill_missing_4(data, 'HomePlanet', 'cabin_grp', 'BS', 'Europa')\n",
    "    fill_missing_4(data, 'HomePlanet', 'cabin_grp', 'BP', 'Europa')\n",
    "    fill_missing_4(data, 'HomePlanet', 'cabin_grp', 'CS', 'Europa')\n",
    "    fill_missing_4(data, 'HomePlanet', 'cabin_grp', 'CP', 'Europa')\n",
    "    fill_missing_4(data, 'HomePlanet', 'cabin_grp', 'TP', 'Europa')\n",
    "    fill_missing_4(data, 'HomePlanet', 'cabin_grp', 'FS', 'Earth')\n",
    "    fill_missing_4(data, 'HomePlanet', 'cabin_grp', 'GS', 'Earth')\n",
    "    fill_missing_4(data, 'HomePlanet', 'cabin_grp', 'GP', 'Earth')\n",
    "    fill_missing_4(data, 'HomePlanet', 'cabin_grp', 'EP', 'Earth')"
   ]
  },
  {
   "cell_type": "code",
   "execution_count": 24,
   "metadata": {},
   "outputs": [],
   "source": [
    "for data in [train, test]:\n",
    "    data['HomePlanet']= data['HomePlanet'].fillna('Mars')\n",
    "\n",
    "    fill_missing_4(data, 'CryoSleep', 'cabin_grp', 'BS', True)\n",
    "    fill_missing_3(data, 'CryoSleep', 'cabin_grp', 'Destination', 'GP', '55 Cancri e', True )\n",
    "    fill_missing_3(data, 'CryoSleep', 'cabin_grp', 'Destination', 'GS', '55 Cancri e', True )\n",
    "    ## fill the remaining missing values with False\n",
    "    data['CryoSleep'] = data['CryoSleep'].fillna(False)\n",
    "\n",
    "    ## fill VIP the misiing values with False\n",
    "    data['VIP']= data['VIP'].fillna(False)\n",
    "\n",
    "    ## fill Destination with TRAPPIST-1e\n",
    "    data['Destination']= data['Destination'].fillna('TRAPPIST-1e')\n",
    "\n",
    "\n",
    "## Drop rows with no cabin_grp\n",
    "train = train[train.cabin_grp.notnull()]"
   ]
  },
  {
   "cell_type": "code",
   "execution_count": 25,
   "metadata": {},
   "outputs": [
    {
     "data": {
      "text/plain": [
       "Name            198\n",
       "ShoppingMall    186\n",
       "VRDeck          184\n",
       "Spa             181\n",
       "FoodCourt       178\n",
       "RoomService     177\n",
       "Age             175\n",
       "PassengerId       0\n",
       "HomePlanet        0\n",
       "CryoSleep         0\n",
       "Cabin             0\n",
       "Destination       0\n",
       "VIP               0\n",
       "Transported       0\n",
       "cabin_grp         0\n",
       "dtype: int64"
      ]
     },
     "execution_count": 25,
     "metadata": {},
     "output_type": "execute_result"
    }
   ],
   "source": [
    "train.isnull().sum().sort_values(ascending=False)"
   ]
  },
  {
   "cell_type": "code",
   "execution_count": 26,
   "metadata": {},
   "outputs": [
    {
     "data": {
      "text/plain": [
       "FoodCourt       106\n",
       "Spa             101\n",
       "Cabin           100\n",
       "cabin_grp       100\n",
       "Name             94\n",
       "ShoppingMall     92\n",
       "Age              91\n",
       "RoomService      82\n",
       "VRDeck           80\n",
       "PassengerId       0\n",
       "HomePlanet        0\n",
       "CryoSleep         0\n",
       "Destination       0\n",
       "VIP               0\n",
       "dtype: int64"
      ]
     },
     "execution_count": 26,
     "metadata": {},
     "output_type": "execute_result"
    }
   ],
   "source": [
    "test.isnull().sum().sort_values(ascending=False)"
   ]
  },
  {
   "cell_type": "code",
   "execution_count": 30,
   "metadata": {},
   "outputs": [],
   "source": [
    "for data in [train, test]:\n",
    "    for col in ['Spa', 'VRDeck', 'ShoppingMall', 'RoomService', 'Age', 'FoodCourt']:\n",
    "        data[col]= data.groupby(['HomePlanet','cabin_grp', 'Destination'])[col].apply(lambda x: x.fillna(x.median()))"
   ]
  },
  {
   "cell_type": "code",
   "execution_count": 32,
   "metadata": {},
   "outputs": [
    {
     "data": {
      "text/plain": [
       "Cabin           100\n",
       "Age             100\n",
       "RoomService     100\n",
       "FoodCourt       100\n",
       "ShoppingMall    100\n",
       "Spa             100\n",
       "VRDeck          100\n",
       "cabin_grp       100\n",
       "Name             94\n",
       "PassengerId       0\n",
       "HomePlanet        0\n",
       "CryoSleep         0\n",
       "Destination       0\n",
       "VIP               0\n",
       "dtype: int64"
      ]
     },
     "execution_count": 32,
     "metadata": {},
     "output_type": "execute_result"
    }
   ],
   "source": [
    "test.isnull().sum().sort_values(ascending=False)"
   ]
  },
  {
   "cell_type": "code",
   "execution_count": 33,
   "metadata": {},
   "outputs": [
    {
     "data": {
      "text/plain": [
       "(4277, 14)"
      ]
     },
     "execution_count": 33,
     "metadata": {},
     "output_type": "execute_result"
    }
   ],
   "source": [
    "test.shape"
   ]
  },
  {
   "cell_type": "code",
   "execution_count": null,
   "metadata": {},
   "outputs": [],
   "source": []
  }
 ],
 "metadata": {
  "kernelspec": {
   "display_name": "Python 3.10.3 64-bit",
   "language": "python",
   "name": "python3"
  },
  "language_info": {
   "codemirror_mode": {
    "name": "ipython",
    "version": 3
   },
   "file_extension": ".py",
   "mimetype": "text/x-python",
   "name": "python",
   "nbconvert_exporter": "python",
   "pygments_lexer": "ipython3",
   "version": "3.10.3"
  },
  "orig_nbformat": 4,
  "vscode": {
   "interpreter": {
    "hash": "574519ca09b26aca22fcbd258939ca899adfc49e01be43018cd5e5ed113a2a51"
   }
  }
 },
 "nbformat": 4,
 "nbformat_minor": 2
}
